{
 "cells": [
  {
   "cell_type": "code",
   "execution_count": 11,
   "metadata": {},
   "outputs": [],
   "source": [
    "import cv2\n",
    "import numpy as np"
   ]
  },
  {
   "cell_type": "code",
   "execution_count": 12,
   "metadata": {},
   "outputs": [],
   "source": [
    "def display(img):\n",
    "    cv2.imshow('Image', img)\n",
    "    cv2.waitKey(0)\n",
    "    cv2.destroyAllWindows()"
   ]
  },
  {
   "cell_type": "code",
   "execution_count": 118,
   "metadata": {},
   "outputs": [],
   "source": [
    "image = cv2.imread('./Data/test2.png')"
   ]
  },
  {
   "cell_type": "code",
   "execution_count": 123,
   "metadata": {},
   "outputs": [],
   "source": [
    "point1 = None\n",
    "point2 = None\n",
    "cropped = None\n",
    "\n",
    "def empty(x):\n",
    "    pass\n",
    "\n",
    "cv2.namedWindow(\"Parameters\")\n",
    "cv2.createTrackbar('Threshold1', 'Parameters', 7,255, empty )\n",
    "cv2.createTrackbar('Threshold2', 'Parameters', 50,255, empty )\n",
    "\n",
    "\n",
    "def crop(event, x,y,flag,param):\n",
    "    global point1, point2, cropped\n",
    "    \n",
    "    if event == cv2.EVENT_LBUTTONDOWN:\n",
    "        if point1 is None:\n",
    "            point1 = (x,y)\n",
    "        elif point2 is None:\n",
    "            point2 = (x,y)\n",
    "            \n",
    "            minY = min(point1[1], point2[1])\n",
    "            maxY = max(point1[1], point2[1])\n",
    "            if minY != maxY:\n",
    "                cropped= image[minY:maxY, :] \n",
    "            point1= None\n",
    "            point2= None\n",
    "        \n",
    "    \n",
    "cv2.namedWindow('Image') \n",
    "cv2.setMouseCallback(\"Image\", crop)\n",
    "\n",
    "kernel = np.array([[-1, -1, -1],\n",
    "                      [-1, 9, -1],\n",
    "                      [-1, -1, -1]])\n",
    "try:\n",
    "    while(1):  \n",
    "        cv2.imshow('Image',image)  \n",
    "        if cropped is not None:\n",
    "#             croppedGray = cv2.cvtColor(cropped, cv2.COLOR_BGR2GRAY)\n",
    "#             sharpened = cv2.filter2D(cropped, -1, kernel)\n",
    "#             croppedBlur = cv2.medianBlur(cropped, 9)\n",
    "            croppedBlur = cv2.bilateralFilter(cropped,9,75,75)\n",
    "\n",
    "            \n",
    "            threshold1 = cv2.getTrackbarPos('Threshold1', 'Parameters')\n",
    "            threshold2 = cv2.getTrackbarPos('Threshold2', 'Parameters')\n",
    "            edges = cv2.Canny(croppedBlur, threshold1,threshold2)\n",
    "            \n",
    "            contours, hierarchy = cv2.findContours(edges,cv2.RETR_EXTERNAL, cv2.CHAIN_APPROX_SIMPLE)\n",
    "            output_img1= np.zeros_like(cropped,dtype=np.uint8)\n",
    "            cv2.drawContours(output_img1, contours, -1, (0, 255, 0), -1)\n",
    "\n",
    "            cv2.imshow('Edge',edges)\n",
    "            cv2.imshow('Contour',output_img1)\n",
    "\n",
    "             \n",
    "        if cv2.waitKey(1) & 0xFF == 27:  \n",
    "            break \n",
    "except Exception as e:\n",
    "    print(e)\n",
    "\n",
    "cv2.destroyAllWindows()\n"
   ]
  },
  {
   "cell_type": "code",
   "execution_count": 122,
   "metadata": {},
   "outputs": [],
   "source": [
    "##### #             width = int(cropped.shape[1]/3)\n",
    "#             square1 = cropped[:, :width]\n",
    "#             square2 = cropped[:, width: width*2]\n",
    "#             square3 = cropped[:, width*2: ]\n",
    "#             cv2.imshow('Square 1',square1)  \n",
    "#             cv2.imshow('Square 2',square2)  \n",
    "#             cv2.imshow('Sqaure 3',square3) "
   ]
  },
  {
   "cell_type": "code",
   "execution_count": null,
   "metadata": {},
   "outputs": [],
   "source": []
  }
 ],
 "metadata": {
  "kernelspec": {
   "display_name": "Python 3",
   "language": "python",
   "name": "python3"
  },
  "language_info": {
   "codemirror_mode": {
    "name": "ipython",
    "version": 3
   },
   "file_extension": ".py",
   "mimetype": "text/x-python",
   "name": "python",
   "nbconvert_exporter": "python",
   "pygments_lexer": "ipython3",
   "version": "3.8.3"
  }
 },
 "nbformat": 4,
 "nbformat_minor": 4
}
