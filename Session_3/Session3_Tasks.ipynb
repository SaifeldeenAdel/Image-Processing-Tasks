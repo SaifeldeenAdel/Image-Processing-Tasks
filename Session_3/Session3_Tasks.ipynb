{
 "cells": [
  {
   "cell_type": "code",
   "execution_count": 2,
   "metadata": {},
   "outputs": [],
   "source": [
    "import cv2\n",
    "import numpy as np"
   ]
  },
  {
   "cell_type": "code",
   "execution_count": 3,
   "metadata": {},
   "outputs": [],
   "source": [
    "def display(img):\n",
    "    cv2.imshow('Image', img)\n",
    "    cv2.waitKey(0)\n",
    "    cv2.destroyAllWindows()"
   ]
  },
  {
   "cell_type": "code",
   "execution_count": 14,
   "metadata": {},
   "outputs": [],
   "source": [
    "image = cv2.imread('./Data/Test/test2.png')"
   ]
  },
  {
   "cell_type": "code",
   "execution_count": 17,
   "metadata": {
    "scrolled": true
   },
   "outputs": [
    {
     "name": "stdout",
     "output_type": "stream",
     "text": [
      "[[153.26678  159.84543  154.73938 ]\n",
      " [ 41.37576  156.3977   193.8001  ]\n",
      " [108.83232  109.70987   95.778496]]\n",
      "[[0 0 0 ... 0 0 0]\n",
      " [0 0 0 ... 0 0 0]\n",
      " [0 0 0 ... 0 0 0]\n",
      " ...\n",
      " [0 0 0 ... 2 2 2]\n",
      " [0 0 0 ... 2 2 2]\n",
      " [0 0 0 ... 2 2 2]]\n",
      "[[112.05186  102.956856  88.158615]\n",
      " [186.17685  181.8822   173.31229 ]\n",
      " [155.53557  149.67862  134.77106 ]]\n",
      "[[1 1 1 ... 1 1 1]\n",
      " [1 1 1 ... 1 1 1]\n",
      " [2 1 1 ... 1 1 1]\n",
      " ...\n",
      " [0 0 0 ... 1 1 1]\n",
      " [0 0 0 ... 1 1 1]\n",
      " [0 0 0 ... 1 1 1]]\n",
      "[[196.0421   197.29306  195.67632 ]\n",
      " [166.62993  167.43768  166.0226  ]\n",
      " [ 41.802437  32.144512  77.78474 ]]\n",
      "[[1 1 1 ... 1 1 2]\n",
      " [1 1 1 ... 1 1 2]\n",
      " [1 1 1 ... 1 1 2]\n",
      " ...\n",
      " [1 1 1 ... 2 2 2]\n",
      " [1 1 1 ... 2 2 2]\n",
      " [1 1 1 ... 2 2 2]]\n"
     ]
    }
   ],
   "source": [
    "point1 = None\n",
    "point2 = None\n",
    "cropped = None\n",
    "\n",
    "def kMeans(clusters, img):\n",
    "    points = img.reshape((-1,3)).astype(np.float32)\n",
    "    criteria = (cv2.TERM_CRITERIA_EPS + cv2.TERM_CRITERIA_MAX_ITER, 10, 1.0)\n",
    "    _,labels,centers=cv2.kmeans(points,clusters,None,criteria,20,cv2.KMEANS_RANDOM_CENTERS)\n",
    "    print(centers)\n",
    "    labels = labels.reshape((img.shape[0], img.shape[1]))\n",
    "    print(labels)\n",
    "    \n",
    "    for i in range(clusters):\n",
    "        output = img.copy()\n",
    "        output[labels!=i]=np.uint8([0,0,0])\n",
    "        title = \"Image \" + str(i +1)\n",
    "        cv2.imshow(title, output)\n",
    "\n",
    "    \n",
    "    \n",
    "    \n",
    "\n",
    "def crop(event, x,y,flag,param):\n",
    "    global point1, point2, cropped\n",
    "    \n",
    "    if event == cv2.EVENT_LBUTTONDOWN:\n",
    "        if point1 is None:\n",
    "            point1 = (x,y)\n",
    "        elif point2 is None:\n",
    "            point2 = (x,y)\n",
    "            \n",
    "            minY = min(point1[1], point2[1])\n",
    "            maxY = max(point1[1], point2[1])\n",
    "            if minY != maxY:\n",
    "                cropped= image[minY:maxY, :] \n",
    "            point1= None\n",
    "            point2= None\n",
    "        \n",
    "    \n",
    "cv2.namedWindow('Image') \n",
    "cv2.setMouseCallback(\"Image\", crop)\n",
    "try:\n",
    "    while(1):  \n",
    "        cv2.imshow('Image',image)  \n",
    "        if cropped is not None:\n",
    "            croppedHSV = cv2.cvtColor(cropped, cv2.COLOR_BGR2HSV)\n",
    "            cv2.imshow('Crop', cropped)\n",
    "           \n",
    "            width = int(cropped.shape[1]/3)\n",
    "            square1 = cropped[:, :width]\n",
    "            square2 = cropped[:, width: width*2]\n",
    "            square3 = cropped[:, width*2: ]\n",
    "            kMeans(3, square1)\n",
    "            kMeans(3, square2)\n",
    "            kMeans(3, square3)\n",
    "\n",
    "#             cv2.imshow('Square 1',square1)  \n",
    "#             cv2.imshow('Square 2',square2)  \n",
    "#             cv2.imshow('Sqaure 3',square3) \n",
    "            cropped= None\n",
    "        if cv2.waitKey(1) & 0xFF == 27:  \n",
    "            break \n",
    "except Exception as e:\n",
    "    print(e)\n",
    "\n",
    "cv2.destroyAllWindows()\n"
   ]
  },
  {
   "cell_type": "code",
   "execution_count": 122,
   "metadata": {},
   "outputs": [],
   "source": [
    "##### #             width = int(cropped.shape[1]/3)\n",
    "#             square1 = cropped[:, :width]\n",
    "#             square2 = cropped[:, width: width*2]\n",
    "#             square3 = cropped[:, width*2: ]\n",
    "#             cv2.imshow('Square 1',square1)  \n",
    "#             cv2.imshow('Square 2',square2)  \n",
    "#             cv2.imshow('Sqaure 3',square3) \n",
    "[[135.17746  133.47664  128.10077 ]\n",
    " [ 31.805359  21.211466  58.292572]\n",
    " [174.25406  172.13939  167.96521 ]]\n",
    "\n",
    "[[ 23.154455 199.46794  198.38054 ]\n",
    " [103.16753   32.517647 154.78535 ]\n",
    " [ 29.758947  24.204458 143.45663 ]]23"
   ]
  },
  {
   "cell_type": "code",
   "execution_count": null,
   "metadata": {},
   "outputs": [],
   "source": []
  }
 ],
 "metadata": {
  "kernelspec": {
   "display_name": "Python 3",
   "language": "python",
   "name": "python3"
  },
  "language_info": {
   "codemirror_mode": {
    "name": "ipython",
    "version": 3
   },
   "file_extension": ".py",
   "mimetype": "text/x-python",
   "name": "python",
   "nbconvert_exporter": "python",
   "pygments_lexer": "ipython3",
   "version": "3.8.3"
  }
 },
 "nbformat": 4,
 "nbformat_minor": 4
}
