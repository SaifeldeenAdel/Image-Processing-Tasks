{
 "cells": [
  {
   "cell_type": "code",
   "execution_count": 2,
   "metadata": {},
   "outputs": [],
   "source": [
    "import cv2\n",
    "import numpy as np"
   ]
  },
  {
   "cell_type": "code",
   "execution_count": 3,
   "metadata": {},
   "outputs": [],
   "source": [
    "image = cv2.imread('./Images/art2.jpeg')"
   ]
  },
  {
   "cell_type": "code",
   "execution_count": 4,
   "metadata": {},
   "outputs": [],
   "source": [
    "def colorToGrey(img):\n",
    "    img = img.astype('uint16')\n",
    "    img = (img[:,:,0] + img[:,:,1] + img[:,:,2]) / 3\n",
    "    img = img.astype('uint8')\n",
    "    cv2.imshow('image', img)"
   ]
  },
  {
   "cell_type": "code",
   "execution_count": 5,
   "metadata": {},
   "outputs": [],
   "source": [
    "# colorToGrey(image)\n",
    "# cv2.waitKey(0)"
   ]
  },
  {
   "cell_type": "code",
   "execution_count": 6,
   "metadata": {},
   "outputs": [],
   "source": [
    "def extractColor(img, min, max):\n",
    "    hsv_img = cv2.cvtColor(img, cv2.COLOR_BGR2HSV)\n",
    "    mask = cv2.inRange(hsv_img, min, max)\n",
    "    extracted_img= cv2.bitwise_and(img,img,mask=mask)\n",
    "    return extracted_img\n"
   ]
  },
  {
   "cell_type": "code",
   "execution_count": 23,
   "metadata": {},
   "outputs": [],
   "source": [
    "min_hue = 0\n",
    "max_hue = 0\n",
    "min_sat = 0\n",
    "max_sat = 0\n",
    "min_val = 0\n",
    "max_val = 0\n",
    "\n",
    "\n",
    "def videoColorExtraction():\n",
    "    global min_hue, max_hue, min_sat, max_sat, min_val, max_val \n",
    "    cap = cv2.VideoCapture(0)\n",
    "    while True:\n",
    "        low_color = np.array([min_hue, min_sat, min_val]).reshape((1,1,3))\n",
    "        high_color = np.array([max_hue, max_sat, max_val]).reshape((1,1,3))\n",
    "        ret, frame = cap.read()\n",
    "        frame = np.flip(frame, 1)\n",
    "        cv2.imshow('Original', frame)\n",
    "        cv2.imshow('Extracted', extractColor(frame, low_color, high_color))\n",
    "        if cv2.waitKey(1) == 27:\n",
    "            break\n",
    "    cv2.destroyAllWindows()\n",
    "    cap.release() \n",
    "    \n",
    "\n",
    "def on_min_hue_trackbar(val):\n",
    "    global min_hue\n",
    "    min_hue = val\n",
    "\n",
    "def on_max_hue_trackbar(val):\n",
    "    global max_hue\n",
    "    max_hue = val\n",
    "\n",
    "def on_min_sat_trackbar(val):\n",
    "    global min_sat\n",
    "    min_sat = val\n",
    "    \n",
    "def on_max_sat_trackbar(val):\n",
    "    global max_sat\n",
    "    max_sat = val\n",
    "\n",
    "def on_min_val_trackbar(val):\n",
    "    global min_val\n",
    "    min_val = val\n",
    "    \n",
    "def on_max_val_trackbar(val):\n",
    "    global max_val \n",
    "    max_val = val\n",
    "\n",
    "cv2.namedWindow(\"Trackbars\", cv2.WINDOW_NORMAL)\n",
    "cv2.createTrackbar('Min Hue', \"Trackbars\" , 0, 255, on_min_hue_trackbar)\n",
    "cv2.createTrackbar('Max Hue', \"Trackbars\" , 0, 255, on_max_hue_trackbar)\n",
    "cv2.createTrackbar('Min Sat', \"Trackbars\" , 0, 255, on_min_sat_trackbar)\n",
    "cv2.createTrackbar('Max Sat', \"Trackbars\" , 0, 255, on_max_sat_trackbar)\n",
    "cv2.createTrackbar('Min Value', \"Trackbars\" , 0, 255, on_min_val_trackbar)\n",
    "cv2.createTrackbar('Max Value', \"Trackbars\" , 0, 255, on_max_val_trackbar)\n",
    "\n",
    "\n",
    "videoColorExtraction()\n",
    "\n",
    "\n",
    "\n",
    "\n",
    "\n"
   ]
  },
  {
   "cell_type": "code",
   "execution_count": 7,
   "metadata": {},
   "outputs": [],
   "source": [
    "# videoColorExtraction()"
   ]
  },
  {
   "cell_type": "code",
   "execution_count": 8,
   "metadata": {},
   "outputs": [],
   "source": [
    "\n",
    "\n",
    "\n",
    "\n",
    "\n"
   ]
  },
  {
   "cell_type": "code",
   "execution_count": null,
   "metadata": {},
   "outputs": [],
   "source": []
  }
 ],
 "metadata": {
  "kernelspec": {
   "display_name": "Python 3",
   "language": "python",
   "name": "python3"
  },
  "language_info": {
   "codemirror_mode": {
    "name": "ipython",
    "version": 3
   },
   "file_extension": ".py",
   "mimetype": "text/x-python",
   "name": "python",
   "nbconvert_exporter": "python",
   "pygments_lexer": "ipython3",
   "version": "3.8.3"
  }
 },
 "nbformat": 4,
 "nbformat_minor": 4
}
